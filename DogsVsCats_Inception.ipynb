{
 "cells": [
  {
   "cell_type": "markdown",
   "metadata": {},
   "source": [
    "# Transfer Learning with Inception"
   ]
  },
  {
   "cell_type": "code",
   "execution_count": 1,
   "metadata": {
    "collapsed": false,
    "deletable": true,
    "editable": true
   },
   "outputs": [],
   "source": [
    "import tensorflow as tf\n",
    "\n",
    "import bottleneck\n",
    "import dataset\n",
    "import tfutil as tfu"
   ]
  },
  {
   "cell_type": "markdown",
   "metadata": {
    "deletable": true,
    "editable": true
   },
   "source": [
    "Inception expects 299x299 pixel images as input:"
   ]
  },
  {
   "cell_type": "code",
   "execution_count": 2,
   "metadata": {
    "collapsed": false,
    "deletable": true,
    "editable": true
   },
   "outputs": [
    {
     "data": {
      "text/plain": [
       "(299, 299)"
      ]
     },
     "execution_count": 2,
     "metadata": {},
     "output_type": "execute_result"
    }
   ],
   "source": [
    "dataset.image_dim()"
   ]
  },
  {
   "cell_type": "code",
   "execution_count": 3,
   "metadata": {
    "collapsed": true,
    "deletable": true,
    "editable": true
   },
   "outputs": [],
   "source": [
    "def lm(images, reg_terms, train=True, share=False):\n",
    "    with tf.variable_scope('lm', reuse=share):\n",
    "        keep_prob = 0.5 if train else 1.0\n",
    "        h = tf.nn.dropout(images, keep_prob=keep_prob)\n",
    "        h = tfu.fc_op(h, channels_in=bottleneck.FLAGS['BOTTLENECK_SIZE'], channels_out=1, reg_terms=reg_terms, alpha=0.01, name='out', relu=False)\n",
    "        \n",
    "    return h"
   ]
  },
  {
   "cell_type": "code",
   "execution_count": 4,
   "metadata": {
    "collapsed": false,
    "deletable": true,
    "editable": true
   },
   "outputs": [],
   "source": [
    "NAME = 'inception_lm'\n",
    "lm_reg_terms = {}\n",
    "\n",
    "args = {\n",
    "    'name': NAME,\n",
    "    'inference_op': lm,\n",
    "    'reg_terms': lm_reg_terms,\n",
    "    'inputs': bottleneck.inputs\n",
    "}\n",
    "\n",
    "training_args = {\n",
    "    **args,\n",
    "    'optimizer': tf.train.AdamOptimizer,\n",
    "}"
   ]
  },
  {
   "cell_type": "code",
   "execution_count": 5,
   "metadata": {
    "collapsed": true,
    "deletable": true,
    "editable": true
   },
   "outputs": [],
   "source": [
    "tfu.run_cleanup(name=NAME)\n",
    "tfu.run_setup(name=NAME)"
   ]
  },
  {
   "cell_type": "code",
   "execution_count": 6,
   "metadata": {
    "collapsed": false,
    "deletable": true,
    "editable": true,
    "scrolled": true
   },
   "outputs": [
    {
     "name": "stdout",
     "output_type": "stream",
     "text": [
      "Train Accuracy: 50.6%\n",
      "Validation Accuracy: 48.6%\n",
      "Train Loss: 0.729\n",
      "Validation Loss: 0.751\n",
      "Cross Entropy: 0.739\n",
      "Cross Entropy: 0.205\n",
      "Cross Entropy: 0.118\n",
      "Cross Entropy: 0.109\n",
      "Train Accuracy: 98.9%\n",
      "Validation Accuracy: 99.1%\n",
      "Train Loss: 0.068\n",
      "Validation Loss: 0.067\n",
      "Cross Entropy: 0.043\n",
      "Cross Entropy: 0.068\n",
      "Cross Entropy: 0.042\n",
      "Cross Entropy: 0.062\n",
      "Train Accuracy: 99.6%\n",
      "Validation Accuracy: 99.4%\n",
      "Train Loss: 0.051\n",
      "Validation Loss: 0.048\n",
      "Cross Entropy: 0.039\n",
      "Cross Entropy: 0.037\n",
      "Cross Entropy: 0.043\n",
      "Cross Entropy: 0.031\n",
      "Train Accuracy: 99.2%\n",
      "Validation Accuracy: 99.3%\n",
      "Train Loss: 0.038\n",
      "Validation Loss: 0.042\n",
      "Cross Entropy: 0.032\n",
      "Cross Entropy: 0.033\n",
      "Cross Entropy: 0.069\n",
      "Cross Entropy: 0.032\n",
      "Train Accuracy: 99.4%\n",
      "Validation Accuracy: 99.3%\n",
      "Train Loss: 0.041\n",
      "Validation Loss: 0.038\n",
      "Cross Entropy: 0.027\n",
      "Cross Entropy: 0.047\n",
      "Cross Entropy: 0.053\n",
      "Cross Entropy: 0.032\n",
      "Done training for 4930 steps.\n",
      "Train Accuracy: 99.3%\n",
      "Validation Accuracy: 99.4%\n",
      "Train Loss: 0.031\n",
      "Validation Loss: 0.036\n"
     ]
    }
   ],
   "source": [
    "tfu.run_training(\n",
    "    learning_rate=1e-4,\n",
    "    num_epochs=25,\n",
    "    **training_args\n",
    ");"
   ]
  },
  {
   "cell_type": "code",
   "execution_count": 7,
   "metadata": {
    "collapsed": false,
    "deletable": true,
    "editable": true
   },
   "outputs": [
    {
     "name": "stdout",
     "output_type": "stream",
     "text": [
      "Train Accuracy: 99.5%\n",
      "Validation Accuracy: 99.3%\n",
      "Test Accuracy: 99.7%\n",
      "Train Loss: 0.037\n",
      "Validation Loss: 0.037\n",
      "Test Loss: 0.033\n"
     ]
    }
   ],
   "source": [
    "tfu.run_eval(**args)"
   ]
  },
  {
   "cell_type": "code",
   "execution_count": 8,
   "metadata": {
    "collapsed": false,
    "deletable": true,
    "editable": true,
    "scrolled": true
   },
   "outputs": [
    {
     "name": "stdout",
     "output_type": "stream",
     "text": [
      "Wrote predictions to ./data/inception_lm_clipped.csv\n",
      "Wrote predictions to ./data/inception_lm.csv\n"
     ]
    }
   ],
   "source": [
    "tfu.run_prediction(**args, clip=True)\n",
    "tfu.run_prediction(**args, clip=False)"
   ]
  }
 ],
 "metadata": {
  "kernelspec": {
   "display_name": "Python 3",
   "language": "python",
   "name": "python3"
  },
  "language_info": {
   "codemirror_mode": {
    "name": "ipython",
    "version": 3
   },
   "file_extension": ".py",
   "mimetype": "text/x-python",
   "name": "python",
   "nbconvert_exporter": "python",
   "pygments_lexer": "ipython3",
   "version": "3.5.2"
  }
 },
 "nbformat": 4,
 "nbformat_minor": 2
}
